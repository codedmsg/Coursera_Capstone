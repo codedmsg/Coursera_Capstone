{
    "cells": [
        {
            "cell_type": "markdown",
            "metadata": {
                "collapsed": true
            },
            "source": "# Capstone Project\nThis notebook will be mainly used for the Coursera's Applied Data Science capstone project through IBM."
        },
        {
            "cell_type": "markdown",
            "metadata": {},
            "source": "## Which place has the most to offer Austin, TX or Asheville, NC?"
        },
        {
            "cell_type": "markdown",
            "metadata": {},
            "source": "When deciding on a city to visit, one must weigh all of the options at their disposal. Trying to find activities and venues that suit their interests is of the utmost importance. \n\nMy project will help the prospective tourist identify which of the two cities has the most to offer in terms of venues and activities, making their choice a little bit easier. \n\n### Outline:\nThis will be accomplished by compiling lists of all the neighborhoods in each city then identifying the number one most popular venue per neighborhood. The user will then be able to compare the two cities based off of what they have to offer. "
        }
    ],
    "metadata": {
        "kernelspec": {
            "display_name": "Python 3.7",
            "language": "python",
            "name": "python3"
        },
        "language_info": {
            "codemirror_mode": {
                "name": "ipython",
                "version": 3
            },
            "file_extension": ".py",
            "mimetype": "text/x-python",
            "name": "python",
            "nbconvert_exporter": "python",
            "pygments_lexer": "ipython3",
            "version": "3.7.10"
        }
    },
    "nbformat": 4,
    "nbformat_minor": 1
}