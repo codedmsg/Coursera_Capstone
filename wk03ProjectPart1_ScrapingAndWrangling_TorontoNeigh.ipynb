{
    "cells": [
        {
            "cell_type": "code",
            "execution_count": 1,
            "metadata": {},
            "outputs": [],
            "source": "import numpy as np\nimport pandas as pd\nimport requests\nfrom bs4 import BeautifulSoup"
        },
        {
            "cell_type": "markdown",
            "metadata": {},
            "source": "### Gathering the data:\nCreate a get request for the wiki page then create a BeautifulSoup instance."
        },
        {
            "cell_type": "code",
            "execution_count": 2,
            "metadata": {},
            "outputs": [],
            "source": "# This is the url to the latest version of the wiki page. As a consequence, the data is no longer in the original order.\nurl='https://en.wikipedia.org/wiki/List_of_postal_codes_of_Canada:_M'\n\nresults = requests.get(url).text\n\nsoup = BeautifulSoup(results, features='html5lib')"
        },
        {
            "cell_type": "markdown",
            "metadata": {},
            "source": "### Web Scraping:\nScrape the desired table from the wiki page and save the information as a list of tuples then convert it into a dataframe."
        },
        {
            "cell_type": "code",
            "execution_count": 3,
            "metadata": {},
            "outputs": [
                {
                    "data": {
                        "text/html": "<div>\n<style scoped>\n    .dataframe tbody tr th:only-of-type {\n        vertical-align: middle;\n    }\n\n    .dataframe tbody tr th {\n        vertical-align: top;\n    }\n\n    .dataframe thead th {\n        text-align: right;\n    }\n</style>\n<table border=\"1\" class=\"dataframe\">\n  <thead>\n    <tr style=\"text-align: right;\">\n      <th></th>\n      <th>PostalCode</th>\n      <th>Borough</th>\n      <th>Neighborhoods</th>\n    </tr>\n  </thead>\n  <tbody>\n    <tr>\n      <th>0</th>\n      <td>M1A</td>\n      <td>NaN</td>\n      <td>NaN</td>\n    </tr>\n    <tr>\n      <th>1</th>\n      <td>M2A</td>\n      <td>NaN</td>\n      <td>NaN</td>\n    </tr>\n    <tr>\n      <th>2</th>\n      <td>M3A</td>\n      <td>North York</td>\n      <td>[Parkwoods]</td>\n    </tr>\n    <tr>\n      <th>3</th>\n      <td>M4A</td>\n      <td>North York</td>\n      <td>[Victoria Village]</td>\n    </tr>\n    <tr>\n      <th>4</th>\n      <td>M5A</td>\n      <td>Downtown Toronto</td>\n      <td>[Regent Park, Harbourfront]</td>\n    </tr>\n  </tbody>\n</table>\n</div>",
                        "text/plain": "  PostalCode           Borough                Neighborhoods\n0        M1A               NaN                          NaN\n1        M2A               NaN                          NaN\n2        M3A        North York                  [Parkwoods]\n3        M4A        North York           [Victoria Village]\n4        M5A  Downtown Toronto  [Regent Park, Harbourfront]"
                    },
                    "execution_count": 3,
                    "metadata": {},
                    "output_type": "execute_result"
                }
            ],
            "source": "toronto_list=[] # Will hold the data for processing into a dataframe.\n\nfor td in soup.table.find_all('td'):\n    \"\"\" Loop through all of the rows, identify and save all of the \n    desired information in their designated variables \"\"\"\n    # Using Try/Except incase of any empty cells in the wiki table.\n    try:\n        postal_code = td.find('b').text\n                \n        borough = td.text.split('(')[0][4:].strip()\n        # Change any borough with a value of \"Not Assigned\" to NaN:\n        if borough == 'Not assigned':\n            borough = np.nan\n        \n        hoods_list = td.text.strip().split('(')[-1].strip(')').split('/')\n        if hoods_list[0][3:] == 'Not assigned':\n            # Change any neighborhood list with a value of \"Not assigned\" to NaN (borough):\n            hoods_list = borough\n        else:\n            # loop through the hoods_list and strip any spaces from either side of each element.\n            hoods_list = [hood.strip() for hood in hoods_list]\n\n    except:\n        None\n    \n    toronto_list.append((postal_code, borough, hoods_list))\n\n# Create a dataframe from the list of tuples, \"toronto_list\":\ntoronto_df = pd.DataFrame(toronto_list, columns=['PostalCode', 'Borough', 'Neighborhoods'])\ntoronto_df.head()"
        },
        {
            "cell_type": "markdown",
            "metadata": {},
            "source": "## Data Wrangling:"
        },
        {
            "cell_type": "code",
            "execution_count": 4,
            "metadata": {},
            "outputs": [
                {
                    "data": {
                        "text/html": "<div>\n<style scoped>\n    .dataframe tbody tr th:only-of-type {\n        vertical-align: middle;\n    }\n\n    .dataframe tbody tr th {\n        vertical-align: top;\n    }\n\n    .dataframe thead th {\n        text-align: right;\n    }\n</style>\n<table border=\"1\" class=\"dataframe\">\n  <thead>\n    <tr style=\"text-align: right;\">\n      <th></th>\n      <th>PostalCode</th>\n      <th>Borough</th>\n      <th>Neighborhoods</th>\n    </tr>\n  </thead>\n  <tbody>\n    <tr>\n      <th>2</th>\n      <td>M3A</td>\n      <td>North York</td>\n      <td>Parkwoods</td>\n    </tr>\n    <tr>\n      <th>3</th>\n      <td>M4A</td>\n      <td>North York</td>\n      <td>Victoria Village</td>\n    </tr>\n    <tr>\n      <th>4</th>\n      <td>M5A</td>\n      <td>Downtown Toronto</td>\n      <td>Regent Park,Harbourfront</td>\n    </tr>\n    <tr>\n      <th>5</th>\n      <td>M6A</td>\n      <td>North York</td>\n      <td>Lawrence Manor,Lawrence Heights</td>\n    </tr>\n    <tr>\n      <th>6</th>\n      <td>M7A</td>\n      <td>Queen's Park</td>\n      <td>Ontario Provincial Government</td>\n    </tr>\n  </tbody>\n</table>\n</div>",
                        "text/plain": "  PostalCode           Borough                    Neighborhoods\n2        M3A        North York                        Parkwoods\n3        M4A        North York                 Victoria Village\n4        M5A  Downtown Toronto         Regent Park,Harbourfront\n5        M6A        North York  Lawrence Manor,Lawrence Heights\n6        M7A      Queen's Park    Ontario Provincial Government"
                    },
                    "execution_count": 4,
                    "metadata": {},
                    "output_type": "execute_result"
                }
            ],
            "source": "# drop any row that has up to 2 NaN values (Borrough and Neighborhoods).\ntoronto_df.dropna(thresh=2, inplace=True)\n\n# Casting the list of Neighborhoods as a string then joining the elements:\ntoronto_df.Neighborhoods = toronto_df.Neighborhoods.str.join(',')\n\ntoronto_df.head()"
        },
        {
            "cell_type": "markdown",
            "metadata": {},
            "source": "___\n## Data Exploration:\nLooking for anything unusual and correcting any errors."
        },
        {
            "cell_type": "markdown",
            "metadata": {},
            "source": "### Inspecting the boroughs for irregularities:"
        },
        {
            "cell_type": "code",
            "execution_count": 5,
            "metadata": {},
            "outputs": [
                {
                    "data": {
                        "text/plain": "array(['North York', 'Downtown Toronto', \"Queen's Park\", 'Etobicoke',\n       'Scarborough', 'East York', 'York', 'East Toronto', 'West Toronto',\n       'East YorkEast Toronto', 'Central Toronto',\n       'MississaugaCanada Post Gateway Processing Centre',\n       'Downtown TorontoStn A PO Boxes25 The Esplanade',\n       'EtobicokeNorthwest',\n       'East TorontoBusiness reply mail Processing Centre969 Eastern'],\n      dtype=object)"
                    },
                    "execution_count": 5,
                    "metadata": {},
                    "output_type": "execute_result"
                }
            ],
            "source": "# Looking for anomolies:\ntoronto_df.Borough.unique()"
        },
        {
            "cell_type": "code",
            "execution_count": 6,
            "metadata": {},
            "outputs": [
                {
                    "data": {
                        "text/plain": "[57, 114, 148, 152, 168]"
                    },
                    "execution_count": 6,
                    "metadata": {},
                    "output_type": "execute_result"
                }
            ],
            "source": "# finding the indexes of the anomolies for correction:\nanomolies = ['East YorkEast Toronto',\n       'MississaugaCanada Post Gateway Processing Centre',\n       'Downtown TorontoStn A PO Boxes25 The Esplanade',\n       'EtobicokeNorthwest',\n       'East TorontoBusiness reply mail Processing Centre969 Eastern']\n\nanom_indexs = []\nfor index, bor in zip(toronto_df.index,toronto_df.Borough):\n    if bor in anomolies:\n        anom_indexs.append(index)\nanom_indexs"
        },
        {
            "cell_type": "code",
            "execution_count": 7,
            "metadata": {},
            "outputs": [
                {
                    "name": "stdout",
                    "output_type": "stream",
                    "text": "PostalCode                         M4J\nBorough          East YorkEast Toronto\nNeighborhoods       The Danforth  East\nName: 57, dtype: object \n\nPostalCode                                                    M7R\nBorough          MississaugaCanada Post Gateway Processing Centre\nNeighborhoods                                      Enclave of L4W\nName: 114, dtype: object \n\nPostalCode                                                  M5W\nBorough          Downtown TorontoStn A PO Boxes25 The Esplanade\nNeighborhoods                                    Enclave of M5E\nName: 148, dtype: object \n\nPostalCode                                                     M9W\nBorough                                         EtobicokeNorthwest\nNeighborhoods    Clairville,Humberwood,Woodbine Downs,West Humb...\nName: 152, dtype: object \n\nPostalCode                                                     M7Y\nBorough          East TorontoBusiness reply mail Processing Cen...\nNeighborhoods                                       Enclave of M4L\nName: 168, dtype: object \n\n"
                }
            ],
            "source": "# Visually examining the anomalous rows to identify the corrections needed:\nfor ind in anom_indexs:\n    print(toronto_df.loc[ind,:], '\\n')"
        },
        {
            "cell_type": "code",
            "execution_count": 8,
            "metadata": {},
            "outputs": [],
            "source": "# make the corrections to the data:\ntoronto_df.loc[57,'Neighborhoods'] = 'The Danforth'\ntoronto_df.loc[57,'Borough'] = 'East York'\n\ntoronto_df.loc[114,'Borough'] = 'Mississauga Canada Post Gateway Processing Centre'\ntoronto_df.loc[148,'Borough'] = 'Downtown Toronto Stn A PO Boxes 25 The Esplanade'\ntoronto_df.loc[152,'Borough'] = 'Etobicoke'\ntoronto_df.loc[168,'Borough'] = 'East Toronto Business reply mail Processing Centre 969 Eastern'"
        },
        {
            "cell_type": "markdown",
            "metadata": {},
            "source": "### Inspecting the neighborhoods for irregularities:"
        },
        {
            "cell_type": "code",
            "execution_count": 9,
            "metadata": {},
            "outputs": [],
            "source": "# Reset the index:\ntoronto_df.reset_index(drop=True, inplace=True)"
        },
        {
            "cell_type": "code",
            "execution_count": 10,
            "metadata": {},
            "outputs": [
                {
                    "data": {
                        "text/plain": "0                          Parkwoods\n1                   Victoria Village\n2           Regent Park,Harbourfront\n3    Lawrence Manor,Lawrence Heights\n4      Ontario Provincial Government\n5                   Islington Avenue\n6                      Malvern,Rouge\n7                    Don Mills)North\n8     Parkview Hill,Woodbine Gardens\n9           Garden District, Ryerson\nName: Neighborhoods, dtype: object"
                    },
                    "execution_count": 10,
                    "metadata": {},
                    "output_type": "execute_result"
                }
            ],
            "source": "# Skim over and inspect the Neighborhood values for any irregularities:\ntoronto_df.Neighborhoods[:10]"
        },
        {
            "cell_type": "code",
            "execution_count": 11,
            "metadata": {},
            "outputs": [
                {
                    "data": {
                        "text/plain": "0                          Parkwoods\n1                   Victoria Village\n2           Regent Park,Harbourfront\n3    Lawrence Manor,Lawrence Heights\n4      Ontario Provincial Government\n5                   Islington Avenue\n6                      Malvern,Rouge\n7                    Don Mills North\n8     Parkview Hill,Woodbine Gardens\n9           Garden District, Ryerson\nName: Neighborhoods, dtype: object"
                    },
                    "execution_count": 11,
                    "metadata": {},
                    "output_type": "execute_result"
                }
            ],
            "source": "# Remove the parenthesis observed in some of the Neighboorhood names:\nhoodlist=[]\nimport re\nfor hood in toronto_df.Neighborhoods:\n    hood = re.sub('\\)',\" \", str(hood)) # substitute the parenthesis\n    hoodlist.append(hood)\n\n# cast the list to Series and make it the new Neighborhoods column:\ntoronto_df.Neighborhoods = pd.Series(hoodlist)\n\n# Verify that the parenthesis has been removed:\ntoronto_df.Neighborhoods[:10]"
        },
        {
            "cell_type": "markdown",
            "metadata": {},
            "source": "### Verification:\nVerifying the quality of the datawithin the dataframe."
        },
        {
            "cell_type": "code",
            "execution_count": 12,
            "metadata": {},
            "outputs": [
                {
                    "data": {
                        "text/html": "<div>\n<style scoped>\n    .dataframe tbody tr th:only-of-type {\n        vertical-align: middle;\n    }\n\n    .dataframe tbody tr th {\n        vertical-align: top;\n    }\n\n    .dataframe thead th {\n        text-align: right;\n    }\n</style>\n<table border=\"1\" class=\"dataframe\">\n  <thead>\n    <tr style=\"text-align: right;\">\n      <th></th>\n      <th>PostalCode</th>\n      <th>Borough</th>\n      <th>Neighborhoods</th>\n    </tr>\n  </thead>\n  <tbody>\n  </tbody>\n</table>\n</div>",
                        "text/plain": "Empty DataFrame\nColumns: [PostalCode, Borough, Neighborhoods]\nIndex: []"
                    },
                    "execution_count": 12,
                    "metadata": {},
                    "output_type": "execute_result"
                }
            ],
            "source": "# Check if there are any duplicate Postal Codes:\ntoronto_df.loc[toronto_df.loc[:,'PostalCode'].duplicated()==True]"
        },
        {
            "cell_type": "code",
            "execution_count": 13,
            "metadata": {},
            "outputs": [
                {
                    "data": {
                        "text/html": "<div>\n<style scoped>\n    .dataframe tbody tr th:only-of-type {\n        vertical-align: middle;\n    }\n\n    .dataframe tbody tr th {\n        vertical-align: top;\n    }\n\n    .dataframe thead th {\n        text-align: right;\n    }\n</style>\n<table border=\"1\" class=\"dataframe\">\n  <thead>\n    <tr style=\"text-align: right;\">\n      <th></th>\n      <th>PostalCode</th>\n      <th>Borough</th>\n      <th>Neighborhoods</th>\n    </tr>\n  </thead>\n  <tbody>\n    <tr>\n      <th>2</th>\n      <td>M5A</td>\n      <td>Downtown Toronto</td>\n      <td>Regent Park,Harbourfront</td>\n    </tr>\n  </tbody>\n</table>\n</div>",
                        "text/plain": "  PostalCode           Borough             Neighborhoods\n2        M5A  Downtown Toronto  Regent Park,Harbourfront"
                    },
                    "execution_count": 13,
                    "metadata": {},
                    "output_type": "execute_result"
                }
            ],
            "source": "# Verifying that the Neighborhoods of Postal Code = 'M5A' matches the specifications in the assignment:\ntoronto_df.loc[toronto_df.loc[:,'PostalCode'] == 'M5A']"
        },
        {
            "cell_type": "markdown",
            "metadata": {},
            "source": "### The Final Data Frame:"
        },
        {
            "cell_type": "code",
            "execution_count": 14,
            "metadata": {},
            "outputs": [
                {
                    "data": {
                        "text/html": "<div>\n<style scoped>\n    .dataframe tbody tr th:only-of-type {\n        vertical-align: middle;\n    }\n\n    .dataframe tbody tr th {\n        vertical-align: top;\n    }\n\n    .dataframe thead th {\n        text-align: right;\n    }\n</style>\n<table border=\"1\" class=\"dataframe\">\n  <thead>\n    <tr style=\"text-align: right;\">\n      <th></th>\n      <th>PostalCode</th>\n      <th>Borough</th>\n      <th>Neighborhoods</th>\n    </tr>\n  </thead>\n  <tbody>\n    <tr>\n      <th>0</th>\n      <td>M3A</td>\n      <td>North York</td>\n      <td>Parkwoods</td>\n    </tr>\n    <tr>\n      <th>1</th>\n      <td>M4A</td>\n      <td>North York</td>\n      <td>Victoria Village</td>\n    </tr>\n    <tr>\n      <th>2</th>\n      <td>M5A</td>\n      <td>Downtown Toronto</td>\n      <td>Regent Park,Harbourfront</td>\n    </tr>\n    <tr>\n      <th>3</th>\n      <td>M6A</td>\n      <td>North York</td>\n      <td>Lawrence Manor,Lawrence Heights</td>\n    </tr>\n    <tr>\n      <th>4</th>\n      <td>M7A</td>\n      <td>Queen's Park</td>\n      <td>Ontario Provincial Government</td>\n    </tr>\n    <tr>\n      <th>5</th>\n      <td>M9A</td>\n      <td>Etobicoke</td>\n      <td>Islington Avenue</td>\n    </tr>\n    <tr>\n      <th>6</th>\n      <td>M1B</td>\n      <td>Scarborough</td>\n      <td>Malvern,Rouge</td>\n    </tr>\n    <tr>\n      <th>7</th>\n      <td>M3B</td>\n      <td>North York</td>\n      <td>Don Mills North</td>\n    </tr>\n    <tr>\n      <th>8</th>\n      <td>M4B</td>\n      <td>East York</td>\n      <td>Parkview Hill,Woodbine Gardens</td>\n    </tr>\n    <tr>\n      <th>9</th>\n      <td>M5B</td>\n      <td>Downtown Toronto</td>\n      <td>Garden District, Ryerson</td>\n    </tr>\n    <tr>\n      <th>10</th>\n      <td>M6B</td>\n      <td>North York</td>\n      <td>Glencairn</td>\n    </tr>\n    <tr>\n      <th>11</th>\n      <td>M9B</td>\n      <td>Etobicoke</td>\n      <td>West Deane Park,Princess Gardens,Martin Grove,...</td>\n    </tr>\n  </tbody>\n</table>\n</div>",
                        "text/plain": "   PostalCode           Borough  \\\n0         M3A        North York   \n1         M4A        North York   \n2         M5A  Downtown Toronto   \n3         M6A        North York   \n4         M7A      Queen's Park   \n5         M9A         Etobicoke   \n6         M1B       Scarborough   \n7         M3B        North York   \n8         M4B         East York   \n9         M5B  Downtown Toronto   \n10        M6B        North York   \n11        M9B         Etobicoke   \n\n                                        Neighborhoods  \n0                                           Parkwoods  \n1                                    Victoria Village  \n2                            Regent Park,Harbourfront  \n3                     Lawrence Manor,Lawrence Heights  \n4                       Ontario Provincial Government  \n5                                    Islington Avenue  \n6                                       Malvern,Rouge  \n7                                     Don Mills North  \n8                      Parkview Hill,Woodbine Gardens  \n9                            Garden District, Ryerson  \n10                                          Glencairn  \n11  West Deane Park,Princess Gardens,Martin Grove,...  "
                    },
                    "execution_count": 14,
                    "metadata": {},
                    "output_type": "execute_result"
                }
            ],
            "source": "# As stated before, the original wiki page has been updated and the order of the postal codes is now different from before.\ntoronto_df.head(12)"
        },
        {
            "cell_type": "code",
            "execution_count": 15,
            "metadata": {},
            "outputs": [],
            "source": "# Saving the dataframe as a csv file for later manipulation:\ntoronto_df.to_csv('toronto_wrangled.csv', index=False)"
        },
        {
            "cell_type": "code",
            "execution_count": 16,
            "metadata": {},
            "outputs": [
                {
                    "data": {
                        "text/plain": "(103, 3)"
                    },
                    "execution_count": 16,
                    "metadata": {},
                    "output_type": "execute_result"
                }
            ],
            "source": "toronto_df.shape"
        }
    ],
    "metadata": {
        "kernelspec": {
            "display_name": "Python 3.7",
            "language": "python",
            "name": "python3"
        },
        "language_info": {
            "codemirror_mode": {
                "name": "ipython",
                "version": 3
            },
            "file_extension": ".py",
            "mimetype": "text/x-python",
            "name": "python",
            "nbconvert_exporter": "python",
            "pygments_lexer": "ipython3",
            "version": "3.7.10"
        }
    },
    "nbformat": 4,
    "nbformat_minor": 4
}